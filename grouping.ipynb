{
 "cells": [
  {
   "cell_type": "code",
   "execution_count": null,
   "id": "83ad3daf",
   "metadata": {},
   "outputs": [],
   "source": [
    "import pandas as pd"
   ]
  },
  {
   "cell_type": "code",
   "execution_count": 9,
   "id": "675ddeec",
   "metadata": {},
   "outputs": [],
   "source": [
    "# assign data\n",
    "data = pd.DataFrame({'Section': ['A', 'A', 'A', 'B', 'B',\n",
    "                                 'B', 'C', 'C', 'C'],\n",
    "                     'Teacher': ['Kakeshi', 'Kakeshi', 'Iruka',\n",
    "                                 'Kakeshi', 'Kakeshi', 'Kakeshi',\n",
    "                                 'Iruka', 'Iruka', 'Guy']})\n",
    " "
   ]
  },
  {
   "cell_type": "code",
   "execution_count": 10,
   "id": "4c74b31c",
   "metadata": {},
   "outputs": [
    {
     "name": "stdout",
     "output_type": "stream",
     "text": [
      "Data:\n"
     ]
    },
    {
     "data": {
      "text/html": [
       "<div>\n",
       "<style scoped>\n",
       "    .dataframe tbody tr th:only-of-type {\n",
       "        vertical-align: middle;\n",
       "    }\n",
       "\n",
       "    .dataframe tbody tr th {\n",
       "        vertical-align: top;\n",
       "    }\n",
       "\n",
       "    .dataframe thead th {\n",
       "        text-align: right;\n",
       "    }\n",
       "</style>\n",
       "<table border=\"1\" class=\"dataframe\">\n",
       "  <thead>\n",
       "    <tr style=\"text-align: right;\">\n",
       "      <th></th>\n",
       "      <th>Section</th>\n",
       "      <th>Teacher</th>\n",
       "    </tr>\n",
       "  </thead>\n",
       "  <tbody>\n",
       "    <tr>\n",
       "      <th>0</th>\n",
       "      <td>A</td>\n",
       "      <td>Kakeshi</td>\n",
       "    </tr>\n",
       "    <tr>\n",
       "      <th>1</th>\n",
       "      <td>A</td>\n",
       "      <td>Kakeshi</td>\n",
       "    </tr>\n",
       "    <tr>\n",
       "      <th>2</th>\n",
       "      <td>A</td>\n",
       "      <td>Iruka</td>\n",
       "    </tr>\n",
       "    <tr>\n",
       "      <th>3</th>\n",
       "      <td>B</td>\n",
       "      <td>Kakeshi</td>\n",
       "    </tr>\n",
       "    <tr>\n",
       "      <th>4</th>\n",
       "      <td>B</td>\n",
       "      <td>Kakeshi</td>\n",
       "    </tr>\n",
       "    <tr>\n",
       "      <th>5</th>\n",
       "      <td>B</td>\n",
       "      <td>Kakeshi</td>\n",
       "    </tr>\n",
       "    <tr>\n",
       "      <th>6</th>\n",
       "      <td>C</td>\n",
       "      <td>Iruka</td>\n",
       "    </tr>\n",
       "    <tr>\n",
       "      <th>7</th>\n",
       "      <td>C</td>\n",
       "      <td>Iruka</td>\n",
       "    </tr>\n",
       "    <tr>\n",
       "      <th>8</th>\n",
       "      <td>C</td>\n",
       "      <td>Guy</td>\n",
       "    </tr>\n",
       "  </tbody>\n",
       "</table>\n",
       "</div>"
      ],
      "text/plain": [
       "  Section  Teacher\n",
       "0       A  Kakeshi\n",
       "1       A  Kakeshi\n",
       "2       A    Iruka\n",
       "3       B  Kakeshi\n",
       "4       B  Kakeshi\n",
       "5       B  Kakeshi\n",
       "6       C    Iruka\n",
       "7       C    Iruka\n",
       "8       C      Guy"
      ]
     },
     "metadata": {},
     "output_type": "display_data"
    }
   ],
   "source": [
    "# display dataframe\n",
    "print('Data:')\n",
    "display(data)"
   ]
  },
  {
   "cell_type": "code",
   "execution_count": 17,
   "id": "2288cbc8",
   "metadata": {},
   "outputs": [
    {
     "name": "stdout",
     "output_type": "stream",
     "text": [
      "Occurrence counts of particular columns:\n"
     ]
    }
   ],
   "source": [
    "print('Occurrence counts of particular columns:')\n",
    " \n",
    "# count occurrences a particular column\n",
    "occur = data.groupby(['Section']).size()"
   ]
  },
  {
   "cell_type": "code",
   "execution_count": 18,
   "id": "2349638d",
   "metadata": {},
   "outputs": [
    {
     "data": {
      "text/plain": [
       "Section\n",
       "A    3\n",
       "B    3\n",
       "C    3\n",
       "dtype: int64"
      ]
     },
     "metadata": {},
     "output_type": "display_data"
    }
   ],
   "source": [
    "# display occurrences of a particular column\n",
    "display(occur)"
   ]
  },
  {
   "cell_type": "code",
   "execution_count": 19,
   "id": "dea721be",
   "metadata": {},
   "outputs": [],
   "source": [
    "# count occurrences a particular column\n",
    "occur = data.groupby(['Teacher']).size()"
   ]
  },
  {
   "cell_type": "code",
   "execution_count": 20,
   "id": "017ab653",
   "metadata": {},
   "outputs": [
    {
     "data": {
      "text/plain": [
       "Teacher\n",
       "Guy        1\n",
       "Iruka      3\n",
       "Kakeshi    5\n",
       "dtype: int64"
      ]
     },
     "metadata": {},
     "output_type": "display_data"
    }
   ],
   "source": [
    "# display occurrences of a particular column\n",
    "display(occur)"
   ]
  },
  {
   "cell_type": "code",
   "execution_count": null,
   "id": "bb9e634e",
   "metadata": {},
   "outputs": [],
   "source": []
  }
 ],
 "metadata": {
  "kernelspec": {
   "display_name": "Python 3 (ipykernel)",
   "language": "python",
   "name": "python3"
  },
  "language_info": {
   "codemirror_mode": {
    "name": "ipython",
    "version": 3
   },
   "file_extension": ".py",
   "mimetype": "text/x-python",
   "name": "python",
   "nbconvert_exporter": "python",
   "pygments_lexer": "ipython3",
   "version": "3.9.5"
  }
 },
 "nbformat": 4,
 "nbformat_minor": 5
}
