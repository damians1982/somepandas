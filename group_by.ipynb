{
 "cells": [
  {
   "cell_type": "code",
   "execution_count": 1,
   "id": "edfdc1db",
   "metadata": {},
   "outputs": [],
   "source": [
    "import pandas as pd\n",
    "import numpy as np"
   ]
  },
  {
   "cell_type": "code",
   "execution_count": 2,
   "id": "fa77d68c",
   "metadata": {},
   "outputs": [],
   "source": [
    "labels = ['Category','Project_Title','Pledged','Country','Date_Start']"
   ]
  },
  {
   "cell_type": "code",
   "execution_count": 3,
   "id": "7dbe3884",
   "metadata": {},
   "outputs": [],
   "source": [
    "category = ['Games','Games','Games','Film&Video','Film&Video','Film&Video']"
   ]
  },
  {
   "cell_type": "code",
   "execution_count": 4,
   "id": "847560f8",
   "metadata": {},
   "outputs": [],
   "source": [
    "title = ['The Last Faith','Magic Puzzles','Dinosaur Fossil Hunter','Beyond your eyes','5151','8-bit wars']"
   ]
  },
  {
   "cell_type": "code",
   "execution_count": 5,
   "id": "f9e70d11",
   "metadata": {},
   "outputs": [],
   "source": [
    "pledged = [92774,2873519,7962,276,23963,6950]"
   ]
  },
  {
   "cell_type": "code",
   "execution_count": 6,
   "id": "0caf2d23",
   "metadata": {},
   "outputs": [],
   "source": [
    "country = ['UK','USA','Poland','Bulgaria','USA','UK']"
   ]
  },
  {
   "cell_type": "code",
   "execution_count": 7,
   "id": "320a6f21",
   "metadata": {},
   "outputs": [],
   "source": [
    "date_start = ['2020-03-21','2020-03-11','2020-04-16','2022-02-09','2020-04-10','2020-03-19']"
   ]
  },
  {
   "cell_type": "code",
   "execution_count": 23,
   "id": "81c97dc2",
   "metadata": {},
   "outputs": [],
   "source": [
    "random_nums = [22,33,66,23,55,12]\n",
    "#ta kolumna to moja inwencja (spoza kursu Kodilli, chcialem zobaczyc jak zadzialaja funkcje agregujace)"
   ]
  },
  {
   "cell_type": "code",
   "execution_count": 24,
   "id": "f2430da0",
   "metadata": {},
   "outputs": [],
   "source": [
    "df = pd.DataFrame({'Category': category,'title':title,'pledged':pledged,'Country': country,'Date_Start': date_start,'Random_Nums':random_nums})"
   ]
  },
  {
   "cell_type": "code",
   "execution_count": 25,
   "id": "eae36836",
   "metadata": {},
   "outputs": [
    {
     "data": {
      "text/html": [
       "<div>\n",
       "<style scoped>\n",
       "    .dataframe tbody tr th:only-of-type {\n",
       "        vertical-align: middle;\n",
       "    }\n",
       "\n",
       "    .dataframe tbody tr th {\n",
       "        vertical-align: top;\n",
       "    }\n",
       "\n",
       "    .dataframe thead th {\n",
       "        text-align: right;\n",
       "    }\n",
       "</style>\n",
       "<table border=\"1\" class=\"dataframe\">\n",
       "  <thead>\n",
       "    <tr style=\"text-align: right;\">\n",
       "      <th></th>\n",
       "      <th>Category</th>\n",
       "      <th>title</th>\n",
       "      <th>pledged</th>\n",
       "      <th>Country</th>\n",
       "      <th>Date_Start</th>\n",
       "      <th>Random_Nums</th>\n",
       "    </tr>\n",
       "  </thead>\n",
       "  <tbody>\n",
       "    <tr>\n",
       "      <th>0</th>\n",
       "      <td>Games</td>\n",
       "      <td>The Last Faith</td>\n",
       "      <td>92774</td>\n",
       "      <td>UK</td>\n",
       "      <td>2020-03-21</td>\n",
       "      <td>22</td>\n",
       "    </tr>\n",
       "    <tr>\n",
       "      <th>1</th>\n",
       "      <td>Games</td>\n",
       "      <td>Magic Puzzles</td>\n",
       "      <td>2873519</td>\n",
       "      <td>USA</td>\n",
       "      <td>2020-03-11</td>\n",
       "      <td>33</td>\n",
       "    </tr>\n",
       "    <tr>\n",
       "      <th>2</th>\n",
       "      <td>Games</td>\n",
       "      <td>Dinosaur Fossil Hunter</td>\n",
       "      <td>7962</td>\n",
       "      <td>Poland</td>\n",
       "      <td>2020-04-16</td>\n",
       "      <td>66</td>\n",
       "    </tr>\n",
       "    <tr>\n",
       "      <th>3</th>\n",
       "      <td>Film&amp;Video</td>\n",
       "      <td>Beyond your eyes</td>\n",
       "      <td>276</td>\n",
       "      <td>Bulgaria</td>\n",
       "      <td>2022-02-09</td>\n",
       "      <td>23</td>\n",
       "    </tr>\n",
       "    <tr>\n",
       "      <th>4</th>\n",
       "      <td>Film&amp;Video</td>\n",
       "      <td>5151</td>\n",
       "      <td>23963</td>\n",
       "      <td>USA</td>\n",
       "      <td>2020-04-10</td>\n",
       "      <td>55</td>\n",
       "    </tr>\n",
       "    <tr>\n",
       "      <th>5</th>\n",
       "      <td>Film&amp;Video</td>\n",
       "      <td>8-bit wars</td>\n",
       "      <td>6950</td>\n",
       "      <td>UK</td>\n",
       "      <td>2020-03-19</td>\n",
       "      <td>12</td>\n",
       "    </tr>\n",
       "  </tbody>\n",
       "</table>\n",
       "</div>"
      ],
      "text/plain": [
       "     Category                   title  pledged   Country  Date_Start  \\\n",
       "0       Games          The Last Faith    92774        UK  2020-03-21   \n",
       "1       Games           Magic Puzzles  2873519       USA  2020-03-11   \n",
       "2       Games  Dinosaur Fossil Hunter     7962    Poland  2020-04-16   \n",
       "3  Film&Video        Beyond your eyes      276  Bulgaria  2022-02-09   \n",
       "4  Film&Video                    5151    23963       USA  2020-04-10   \n",
       "5  Film&Video              8-bit wars     6950        UK  2020-03-19   \n",
       "\n",
       "   Random_Nums  \n",
       "0           22  \n",
       "1           33  \n",
       "2           66  \n",
       "3           23  \n",
       "4           55  \n",
       "5           12  "
      ]
     },
     "execution_count": 25,
     "metadata": {},
     "output_type": "execute_result"
    }
   ],
   "source": [
    "df"
   ]
  },
  {
   "cell_type": "code",
   "execution_count": 26,
   "id": "2a207a41",
   "metadata": {},
   "outputs": [
    {
     "data": {
      "text/plain": [
       "<pandas.core.groupby.generic.DataFrameGroupBy object at 0x0000019F5EACA160>"
      ]
     },
     "execution_count": 26,
     "metadata": {},
     "output_type": "execute_result"
    }
   ],
   "source": [
    "df.groupby('Category')"
   ]
  },
  {
   "cell_type": "code",
   "execution_count": 27,
   "id": "95d5798f",
   "metadata": {},
   "outputs": [
    {
     "data": {
      "text/html": [
       "<div>\n",
       "<style scoped>\n",
       "    .dataframe tbody tr th:only-of-type {\n",
       "        vertical-align: middle;\n",
       "    }\n",
       "\n",
       "    .dataframe tbody tr th {\n",
       "        vertical-align: top;\n",
       "    }\n",
       "\n",
       "    .dataframe thead th {\n",
       "        text-align: right;\n",
       "    }\n",
       "</style>\n",
       "<table border=\"1\" class=\"dataframe\">\n",
       "  <thead>\n",
       "    <tr style=\"text-align: right;\">\n",
       "      <th></th>\n",
       "      <th>Category</th>\n",
       "      <th>title</th>\n",
       "      <th>pledged</th>\n",
       "      <th>Country</th>\n",
       "      <th>Date_Start</th>\n",
       "      <th>Random_Nums</th>\n",
       "    </tr>\n",
       "  </thead>\n",
       "  <tbody>\n",
       "    <tr>\n",
       "      <th>0</th>\n",
       "      <td>Games</td>\n",
       "      <td>The Last Faith</td>\n",
       "      <td>92774</td>\n",
       "      <td>UK</td>\n",
       "      <td>2020-03-21</td>\n",
       "      <td>22</td>\n",
       "    </tr>\n",
       "    <tr>\n",
       "      <th>1</th>\n",
       "      <td>Games</td>\n",
       "      <td>Magic Puzzles</td>\n",
       "      <td>2873519</td>\n",
       "      <td>USA</td>\n",
       "      <td>2020-03-11</td>\n",
       "      <td>33</td>\n",
       "    </tr>\n",
       "    <tr>\n",
       "      <th>2</th>\n",
       "      <td>Games</td>\n",
       "      <td>Dinosaur Fossil Hunter</td>\n",
       "      <td>7962</td>\n",
       "      <td>Poland</td>\n",
       "      <td>2020-04-16</td>\n",
       "      <td>66</td>\n",
       "    </tr>\n",
       "    <tr>\n",
       "      <th>3</th>\n",
       "      <td>Film&amp;Video</td>\n",
       "      <td>Beyond your eyes</td>\n",
       "      <td>276</td>\n",
       "      <td>Bulgaria</td>\n",
       "      <td>2022-02-09</td>\n",
       "      <td>23</td>\n",
       "    </tr>\n",
       "    <tr>\n",
       "      <th>4</th>\n",
       "      <td>Film&amp;Video</td>\n",
       "      <td>5151</td>\n",
       "      <td>23963</td>\n",
       "      <td>USA</td>\n",
       "      <td>2020-04-10</td>\n",
       "      <td>55</td>\n",
       "    </tr>\n",
       "    <tr>\n",
       "      <th>5</th>\n",
       "      <td>Film&amp;Video</td>\n",
       "      <td>8-bit wars</td>\n",
       "      <td>6950</td>\n",
       "      <td>UK</td>\n",
       "      <td>2020-03-19</td>\n",
       "      <td>12</td>\n",
       "    </tr>\n",
       "  </tbody>\n",
       "</table>\n",
       "</div>"
      ],
      "text/plain": [
       "     Category                   title  pledged   Country  Date_Start  \\\n",
       "0       Games          The Last Faith    92774        UK  2020-03-21   \n",
       "1       Games           Magic Puzzles  2873519       USA  2020-03-11   \n",
       "2       Games  Dinosaur Fossil Hunter     7962    Poland  2020-04-16   \n",
       "3  Film&Video        Beyond your eyes      276  Bulgaria  2022-02-09   \n",
       "4  Film&Video                    5151    23963       USA  2020-04-10   \n",
       "5  Film&Video              8-bit wars     6950        UK  2020-03-19   \n",
       "\n",
       "   Random_Nums  \n",
       "0           22  \n",
       "1           33  \n",
       "2           66  \n",
       "3           23  \n",
       "4           55  \n",
       "5           12  "
      ]
     },
     "execution_count": 27,
     "metadata": {},
     "output_type": "execute_result"
    }
   ],
   "source": [
    "df"
   ]
  },
  {
   "cell_type": "code",
   "execution_count": 28,
   "id": "d21fd2b9",
   "metadata": {},
   "outputs": [
    {
     "data": {
      "text/html": [
       "<div>\n",
       "<style scoped>\n",
       "    .dataframe tbody tr th:only-of-type {\n",
       "        vertical-align: middle;\n",
       "    }\n",
       "\n",
       "    .dataframe tbody tr th {\n",
       "        vertical-align: top;\n",
       "    }\n",
       "\n",
       "    .dataframe thead th {\n",
       "        text-align: right;\n",
       "    }\n",
       "</style>\n",
       "<table border=\"1\" class=\"dataframe\">\n",
       "  <thead>\n",
       "    <tr style=\"text-align: right;\">\n",
       "      <th></th>\n",
       "      <th>pledged</th>\n",
       "      <th>Random_Nums</th>\n",
       "    </tr>\n",
       "    <tr>\n",
       "      <th>Category</th>\n",
       "      <th></th>\n",
       "      <th></th>\n",
       "    </tr>\n",
       "  </thead>\n",
       "  <tbody>\n",
       "    <tr>\n",
       "      <th>Film&amp;Video</th>\n",
       "      <td>31189</td>\n",
       "      <td>90</td>\n",
       "    </tr>\n",
       "    <tr>\n",
       "      <th>Games</th>\n",
       "      <td>2974255</td>\n",
       "      <td>121</td>\n",
       "    </tr>\n",
       "  </tbody>\n",
       "</table>\n",
       "</div>"
      ],
      "text/plain": [
       "            pledged  Random_Nums\n",
       "Category                        \n",
       "Film&Video    31189           90\n",
       "Games       2974255          121"
      ]
     },
     "execution_count": 28,
     "metadata": {},
     "output_type": "execute_result"
    }
   ],
   "source": [
    "df.groupby('Category').sum()"
   ]
  },
  {
   "cell_type": "code",
   "execution_count": 29,
   "id": "23dab9d8",
   "metadata": {},
   "outputs": [
    {
     "data": {
      "text/html": [
       "<div>\n",
       "<style scoped>\n",
       "    .dataframe tbody tr th:only-of-type {\n",
       "        vertical-align: middle;\n",
       "    }\n",
       "\n",
       "    .dataframe tbody tr th {\n",
       "        vertical-align: top;\n",
       "    }\n",
       "\n",
       "    .dataframe thead th {\n",
       "        text-align: right;\n",
       "    }\n",
       "</style>\n",
       "<table border=\"1\" class=\"dataframe\">\n",
       "  <thead>\n",
       "    <tr style=\"text-align: right;\">\n",
       "      <th></th>\n",
       "      <th>pledged</th>\n",
       "      <th>Random_Nums</th>\n",
       "    </tr>\n",
       "    <tr>\n",
       "      <th>Category</th>\n",
       "      <th></th>\n",
       "      <th></th>\n",
       "    </tr>\n",
       "  </thead>\n",
       "  <tbody>\n",
       "    <tr>\n",
       "      <th>Film&amp;Video</th>\n",
       "      <td>10396.333333</td>\n",
       "      <td>30.000000</td>\n",
       "    </tr>\n",
       "    <tr>\n",
       "      <th>Games</th>\n",
       "      <td>991418.333333</td>\n",
       "      <td>40.333333</td>\n",
       "    </tr>\n",
       "  </tbody>\n",
       "</table>\n",
       "</div>"
      ],
      "text/plain": [
       "                  pledged  Random_Nums\n",
       "Category                              \n",
       "Film&Video   10396.333333    30.000000\n",
       "Games       991418.333333    40.333333"
      ]
     },
     "execution_count": 29,
     "metadata": {},
     "output_type": "execute_result"
    }
   ],
   "source": [
    "df.groupby('Category').mean()"
   ]
  },
  {
   "cell_type": "code",
   "execution_count": 30,
   "id": "f4c3c37f",
   "metadata": {},
   "outputs": [
    {
     "data": {
      "text/html": [
       "<div>\n",
       "<style scoped>\n",
       "    .dataframe tbody tr th:only-of-type {\n",
       "        vertical-align: middle;\n",
       "    }\n",
       "\n",
       "    .dataframe tbody tr th {\n",
       "        vertical-align: top;\n",
       "    }\n",
       "\n",
       "    .dataframe thead th {\n",
       "        text-align: right;\n",
       "    }\n",
       "</style>\n",
       "<table border=\"1\" class=\"dataframe\">\n",
       "  <thead>\n",
       "    <tr style=\"text-align: right;\">\n",
       "      <th></th>\n",
       "      <th>title</th>\n",
       "      <th>pledged</th>\n",
       "      <th>Country</th>\n",
       "      <th>Date_Start</th>\n",
       "      <th>Random_Nums</th>\n",
       "    </tr>\n",
       "    <tr>\n",
       "      <th>Category</th>\n",
       "      <th></th>\n",
       "      <th></th>\n",
       "      <th></th>\n",
       "      <th></th>\n",
       "      <th></th>\n",
       "    </tr>\n",
       "  </thead>\n",
       "  <tbody>\n",
       "    <tr>\n",
       "      <th>Film&amp;Video</th>\n",
       "      <td>3</td>\n",
       "      <td>3</td>\n",
       "      <td>3</td>\n",
       "      <td>3</td>\n",
       "      <td>3</td>\n",
       "    </tr>\n",
       "    <tr>\n",
       "      <th>Games</th>\n",
       "      <td>3</td>\n",
       "      <td>3</td>\n",
       "      <td>3</td>\n",
       "      <td>3</td>\n",
       "      <td>3</td>\n",
       "    </tr>\n",
       "  </tbody>\n",
       "</table>\n",
       "</div>"
      ],
      "text/plain": [
       "            title  pledged  Country  Date_Start  Random_Nums\n",
       "Category                                                    \n",
       "Film&Video      3        3        3           3            3\n",
       "Games           3        3        3           3            3"
      ]
     },
     "execution_count": 30,
     "metadata": {},
     "output_type": "execute_result"
    }
   ],
   "source": [
    "df.groupby('Category').count()"
   ]
  },
  {
   "cell_type": "code",
   "execution_count": 34,
   "id": "b8dc4813",
   "metadata": {},
   "outputs": [
    {
     "name": "stdout",
     "output_type": "stream",
     "text": [
      "<class 'str'>\n"
     ]
    }
   ],
   "source": [
    "print(type(df['Date_Start'][0]))\n",
    "#tutaj nasza data jest jeszcze zwyklym stringiem"
   ]
  },
  {
   "cell_type": "code",
   "execution_count": 35,
   "id": "b0150bc1",
   "metadata": {},
   "outputs": [],
   "source": [
    "df['Date_Start'] = pd.to_datetime(df['Date_Start'])"
   ]
  },
  {
   "cell_type": "code",
   "execution_count": 36,
   "id": "efce459d",
   "metadata": {},
   "outputs": [
    {
     "name": "stdout",
     "output_type": "stream",
     "text": [
      "<class 'pandas._libs.tslibs.timestamps.Timestamp'>\n"
     ]
    }
   ],
   "source": [
    "print(type(df['Date_Start'][0]))\n",
    "#tutaj nasza data zostala zamieniona"
   ]
  },
  {
   "cell_type": "code",
   "execution_count": 42,
   "id": "71df73a2",
   "metadata": {},
   "outputs": [
    {
     "data": {
      "text/plain": [
       "TimeGrouper(key='Date_Start', freq=<MonthEnd>, axis=0, sort=True, closed='right', label='right', how='mean', convention='e', origin='start_day')"
      ]
     },
     "execution_count": 42,
     "metadata": {},
     "output_type": "execute_result"
    }
   ],
   "source": [
    "pd.Grouper(key='Date_Start',freq='M')"
   ]
  },
  {
   "cell_type": "code",
   "execution_count": 43,
   "id": "90f7bed9",
   "metadata": {},
   "outputs": [
    {
     "data": {
      "text/html": [
       "<div>\n",
       "<style scoped>\n",
       "    .dataframe tbody tr th:only-of-type {\n",
       "        vertical-align: middle;\n",
       "    }\n",
       "\n",
       "    .dataframe tbody tr th {\n",
       "        vertical-align: top;\n",
       "    }\n",
       "\n",
       "    .dataframe thead th {\n",
       "        text-align: right;\n",
       "    }\n",
       "</style>\n",
       "<table border=\"1\" class=\"dataframe\">\n",
       "  <thead>\n",
       "    <tr style=\"text-align: right;\">\n",
       "      <th></th>\n",
       "      <th>pledged</th>\n",
       "      <th>Random_Nums</th>\n",
       "    </tr>\n",
       "    <tr>\n",
       "      <th>Date_Start</th>\n",
       "      <th></th>\n",
       "      <th></th>\n",
       "    </tr>\n",
       "  </thead>\n",
       "  <tbody>\n",
       "    <tr>\n",
       "      <th>2020-03-31</th>\n",
       "      <td>2973243</td>\n",
       "      <td>67</td>\n",
       "    </tr>\n",
       "    <tr>\n",
       "      <th>2020-04-30</th>\n",
       "      <td>31925</td>\n",
       "      <td>121</td>\n",
       "    </tr>\n",
       "    <tr>\n",
       "      <th>2020-05-31</th>\n",
       "      <td>0</td>\n",
       "      <td>0</td>\n",
       "    </tr>\n",
       "    <tr>\n",
       "      <th>2020-06-30</th>\n",
       "      <td>0</td>\n",
       "      <td>0</td>\n",
       "    </tr>\n",
       "    <tr>\n",
       "      <th>2020-07-31</th>\n",
       "      <td>0</td>\n",
       "      <td>0</td>\n",
       "    </tr>\n",
       "    <tr>\n",
       "      <th>2020-08-31</th>\n",
       "      <td>0</td>\n",
       "      <td>0</td>\n",
       "    </tr>\n",
       "    <tr>\n",
       "      <th>2020-09-30</th>\n",
       "      <td>0</td>\n",
       "      <td>0</td>\n",
       "    </tr>\n",
       "    <tr>\n",
       "      <th>2020-10-31</th>\n",
       "      <td>0</td>\n",
       "      <td>0</td>\n",
       "    </tr>\n",
       "    <tr>\n",
       "      <th>2020-11-30</th>\n",
       "      <td>0</td>\n",
       "      <td>0</td>\n",
       "    </tr>\n",
       "    <tr>\n",
       "      <th>2020-12-31</th>\n",
       "      <td>0</td>\n",
       "      <td>0</td>\n",
       "    </tr>\n",
       "    <tr>\n",
       "      <th>2021-01-31</th>\n",
       "      <td>0</td>\n",
       "      <td>0</td>\n",
       "    </tr>\n",
       "    <tr>\n",
       "      <th>2021-02-28</th>\n",
       "      <td>0</td>\n",
       "      <td>0</td>\n",
       "    </tr>\n",
       "    <tr>\n",
       "      <th>2021-03-31</th>\n",
       "      <td>0</td>\n",
       "      <td>0</td>\n",
       "    </tr>\n",
       "    <tr>\n",
       "      <th>2021-04-30</th>\n",
       "      <td>0</td>\n",
       "      <td>0</td>\n",
       "    </tr>\n",
       "    <tr>\n",
       "      <th>2021-05-31</th>\n",
       "      <td>0</td>\n",
       "      <td>0</td>\n",
       "    </tr>\n",
       "    <tr>\n",
       "      <th>2021-06-30</th>\n",
       "      <td>0</td>\n",
       "      <td>0</td>\n",
       "    </tr>\n",
       "    <tr>\n",
       "      <th>2021-07-31</th>\n",
       "      <td>0</td>\n",
       "      <td>0</td>\n",
       "    </tr>\n",
       "    <tr>\n",
       "      <th>2021-08-31</th>\n",
       "      <td>0</td>\n",
       "      <td>0</td>\n",
       "    </tr>\n",
       "    <tr>\n",
       "      <th>2021-09-30</th>\n",
       "      <td>0</td>\n",
       "      <td>0</td>\n",
       "    </tr>\n",
       "    <tr>\n",
       "      <th>2021-10-31</th>\n",
       "      <td>0</td>\n",
       "      <td>0</td>\n",
       "    </tr>\n",
       "    <tr>\n",
       "      <th>2021-11-30</th>\n",
       "      <td>0</td>\n",
       "      <td>0</td>\n",
       "    </tr>\n",
       "    <tr>\n",
       "      <th>2021-12-31</th>\n",
       "      <td>0</td>\n",
       "      <td>0</td>\n",
       "    </tr>\n",
       "    <tr>\n",
       "      <th>2022-01-31</th>\n",
       "      <td>0</td>\n",
       "      <td>0</td>\n",
       "    </tr>\n",
       "    <tr>\n",
       "      <th>2022-02-28</th>\n",
       "      <td>276</td>\n",
       "      <td>23</td>\n",
       "    </tr>\n",
       "  </tbody>\n",
       "</table>\n",
       "</div>"
      ],
      "text/plain": [
       "            pledged  Random_Nums\n",
       "Date_Start                      \n",
       "2020-03-31  2973243           67\n",
       "2020-04-30    31925          121\n",
       "2020-05-31        0            0\n",
       "2020-06-30        0            0\n",
       "2020-07-31        0            0\n",
       "2020-08-31        0            0\n",
       "2020-09-30        0            0\n",
       "2020-10-31        0            0\n",
       "2020-11-30        0            0\n",
       "2020-12-31        0            0\n",
       "2021-01-31        0            0\n",
       "2021-02-28        0            0\n",
       "2021-03-31        0            0\n",
       "2021-04-30        0            0\n",
       "2021-05-31        0            0\n",
       "2021-06-30        0            0\n",
       "2021-07-31        0            0\n",
       "2021-08-31        0            0\n",
       "2021-09-30        0            0\n",
       "2021-10-31        0            0\n",
       "2021-11-30        0            0\n",
       "2021-12-31        0            0\n",
       "2022-01-31        0            0\n",
       "2022-02-28      276           23"
      ]
     },
     "execution_count": 43,
     "metadata": {},
     "output_type": "execute_result"
    }
   ],
   "source": [
    "df.groupby(pd.Grouper(key='Date_Start',freq='M')).sum()"
   ]
  },
  {
   "cell_type": "code",
   "execution_count": 46,
   "id": "f7f7bf1b",
   "metadata": {},
   "outputs": [
    {
     "data": {
      "text/html": [
       "<div>\n",
       "<style scoped>\n",
       "    .dataframe tbody tr th:only-of-type {\n",
       "        vertical-align: middle;\n",
       "    }\n",
       "\n",
       "    .dataframe tbody tr th {\n",
       "        vertical-align: top;\n",
       "    }\n",
       "\n",
       "    .dataframe thead th {\n",
       "        text-align: right;\n",
       "    }\n",
       "</style>\n",
       "<table border=\"1\" class=\"dataframe\">\n",
       "  <thead>\n",
       "    <tr style=\"text-align: right;\">\n",
       "      <th></th>\n",
       "      <th>pledged</th>\n",
       "      <th>title</th>\n",
       "      <th>Country</th>\n",
       "    </tr>\n",
       "    <tr>\n",
       "      <th>Date_Start</th>\n",
       "      <th></th>\n",
       "      <th></th>\n",
       "      <th></th>\n",
       "    </tr>\n",
       "  </thead>\n",
       "  <tbody>\n",
       "    <tr>\n",
       "      <th>2020-12-31</th>\n",
       "      <td>3005168</td>\n",
       "      <td>5</td>\n",
       "      <td>5</td>\n",
       "    </tr>\n",
       "    <tr>\n",
       "      <th>2021-12-31</th>\n",
       "      <td>0</td>\n",
       "      <td>0</td>\n",
       "      <td>0</td>\n",
       "    </tr>\n",
       "    <tr>\n",
       "      <th>2022-12-31</th>\n",
       "      <td>276</td>\n",
       "      <td>1</td>\n",
       "      <td>1</td>\n",
       "    </tr>\n",
       "  </tbody>\n",
       "</table>\n",
       "</div>"
      ],
      "text/plain": [
       "            pledged  title  Country\n",
       "Date_Start                         \n",
       "2020-12-31  3005168      5        5\n",
       "2021-12-31        0      0        0\n",
       "2022-12-31      276      1        1"
      ]
     },
     "execution_count": 46,
     "metadata": {},
     "output_type": "execute_result"
    }
   ],
   "source": [
    "df.groupby(pd.Grouper(key='Date_Start',freq='Y')).agg({'pledged':'sum','title':'count','Country':'count'})"
   ]
  },
  {
   "cell_type": "code",
   "execution_count": 47,
   "id": "72df763d",
   "metadata": {},
   "outputs": [
    {
     "data": {
      "text/html": [
       "<div>\n",
       "<style scoped>\n",
       "    .dataframe tbody tr th:only-of-type {\n",
       "        vertical-align: middle;\n",
       "    }\n",
       "\n",
       "    .dataframe tbody tr th {\n",
       "        vertical-align: top;\n",
       "    }\n",
       "\n",
       "    .dataframe thead th {\n",
       "        text-align: right;\n",
       "    }\n",
       "</style>\n",
       "<table border=\"1\" class=\"dataframe\">\n",
       "  <thead>\n",
       "    <tr style=\"text-align: right;\">\n",
       "      <th></th>\n",
       "      <th></th>\n",
       "      <th>pledged</th>\n",
       "      <th>Random_Nums</th>\n",
       "    </tr>\n",
       "    <tr>\n",
       "      <th>Country</th>\n",
       "      <th>Category</th>\n",
       "      <th></th>\n",
       "      <th></th>\n",
       "    </tr>\n",
       "  </thead>\n",
       "  <tbody>\n",
       "    <tr>\n",
       "      <th>Bulgaria</th>\n",
       "      <th>Film&amp;Video</th>\n",
       "      <td>276</td>\n",
       "      <td>23</td>\n",
       "    </tr>\n",
       "    <tr>\n",
       "      <th>Poland</th>\n",
       "      <th>Games</th>\n",
       "      <td>7962</td>\n",
       "      <td>66</td>\n",
       "    </tr>\n",
       "    <tr>\n",
       "      <th rowspan=\"2\" valign=\"top\">UK</th>\n",
       "      <th>Film&amp;Video</th>\n",
       "      <td>6950</td>\n",
       "      <td>12</td>\n",
       "    </tr>\n",
       "    <tr>\n",
       "      <th>Games</th>\n",
       "      <td>92774</td>\n",
       "      <td>22</td>\n",
       "    </tr>\n",
       "    <tr>\n",
       "      <th rowspan=\"2\" valign=\"top\">USA</th>\n",
       "      <th>Film&amp;Video</th>\n",
       "      <td>23963</td>\n",
       "      <td>55</td>\n",
       "    </tr>\n",
       "    <tr>\n",
       "      <th>Games</th>\n",
       "      <td>2873519</td>\n",
       "      <td>33</td>\n",
       "    </tr>\n",
       "  </tbody>\n",
       "</table>\n",
       "</div>"
      ],
      "text/plain": [
       "                     pledged  Random_Nums\n",
       "Country  Category                        \n",
       "Bulgaria Film&Video      276           23\n",
       "Poland   Games          7962           66\n",
       "UK       Film&Video     6950           12\n",
       "         Games         92774           22\n",
       "USA      Film&Video    23963           55\n",
       "         Games       2873519           33"
      ]
     },
     "execution_count": 47,
     "metadata": {},
     "output_type": "execute_result"
    }
   ],
   "source": [
    "df.groupby(['Country','Category']).sum()"
   ]
  },
  {
   "cell_type": "code",
   "execution_count": null,
   "id": "2161ecf2",
   "metadata": {},
   "outputs": [],
   "source": []
  }
 ],
 "metadata": {
  "kernelspec": {
   "display_name": "Python 3 (ipykernel)",
   "language": "python",
   "name": "python3"
  },
  "language_info": {
   "codemirror_mode": {
    "name": "ipython",
    "version": 3
   },
   "file_extension": ".py",
   "mimetype": "text/x-python",
   "name": "python",
   "nbconvert_exporter": "python",
   "pygments_lexer": "ipython3",
   "version": "3.9.5"
  }
 },
 "nbformat": 4,
 "nbformat_minor": 5
}
