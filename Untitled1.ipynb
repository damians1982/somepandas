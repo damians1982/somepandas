{
 "cells": [
  {
   "cell_type": "code",
   "execution_count": 42,
   "id": "71430edf",
   "metadata": {},
   "outputs": [
    {
     "data": {
      "text/plain": [
       "[1, 2, 3, 4, 5]"
      ]
     },
     "execution_count": 42,
     "metadata": {},
     "output_type": "execute_result"
    }
   ],
   "source": [
    "tab1 = [1,2,3,4,5]\n",
    "tab1"
   ]
  },
  {
   "cell_type": "code",
   "execution_count": 43,
   "id": "5cde1acc",
   "metadata": {},
   "outputs": [
    {
     "data": {
      "text/plain": [
       "['A', 'B', 'C', 'D', 'E']"
      ]
     },
     "execution_count": 43,
     "metadata": {},
     "output_type": "execute_result"
    }
   ],
   "source": [
    "tab2 = ['A','B','C','D','E']\n",
    "tab2"
   ]
  },
  {
   "cell_type": "code",
   "execution_count": 44,
   "id": "dc095f3e",
   "metadata": {},
   "outputs": [
    {
     "name": "stdout",
     "output_type": "stream",
     "text": [
      "<class 'zip'>\n"
     ]
    }
   ],
   "source": [
    "zip1 = zip(tab1,tab2)\n",
    "print(type(zip1))"
   ]
  },
  {
   "cell_type": "code",
   "execution_count": 45,
   "id": "c456a95d",
   "metadata": {},
   "outputs": [
    {
     "name": "stdout",
     "output_type": "stream",
     "text": [
      "1\n",
      "A\n",
      "2\n",
      "B\n",
      "3\n",
      "C\n",
      "4\n",
      "D\n",
      "5\n",
      "E\n"
     ]
    }
   ],
   "source": [
    "for i,j in zip1:\n",
    "    print(i)\n",
    "    print(j)"
   ]
  },
  {
   "cell_type": "code",
   "execution_count": null,
   "id": "0b79654d",
   "metadata": {},
   "outputs": [],
   "source": []
  }
 ],
 "metadata": {
  "kernelspec": {
   "display_name": "Python 3 (ipykernel)",
   "language": "python",
   "name": "python3"
  },
  "language_info": {
   "codemirror_mode": {
    "name": "ipython",
    "version": 3
   },
   "file_extension": ".py",
   "mimetype": "text/x-python",
   "name": "python",
   "nbconvert_exporter": "python",
   "pygments_lexer": "ipython3",
   "version": "3.9.5"
  }
 },
 "nbformat": 4,
 "nbformat_minor": 5
}
