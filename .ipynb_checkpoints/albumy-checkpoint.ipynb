{
 "cells": [
  {
   "cell_type": "code",
   "execution_count": 16,
   "id": "3bc150db",
   "metadata": {},
   "outputs": [],
   "source": [
    "import pandas as pd\n",
    "import ssl\n",
    "ssl._create_default_https_context = ssl._create_unverified_context"
   ]
  },
  {
   "cell_type": "code",
   "execution_count": 17,
   "id": "6b84c11b",
   "metadata": {},
   "outputs": [],
   "source": [
    "data = pd.read_html('https://www.officialcharts.com/chart-news/the-best-selling-albums-of-all-time-on-the-official-uk-chart__15551/', header=0)"
   ]
  },
  {
   "cell_type": "code",
   "execution_count": 18,
   "id": "469473bb",
   "metadata": {},
   "outputs": [
    {
     "data": {
      "text/plain": [
       "pandas.core.frame.DataFrame"
      ]
     },
     "execution_count": 18,
     "metadata": {},
     "output_type": "execute_result"
    }
   ],
   "source": [
    "#catch our data frame object\n",
    "type(data[0])"
   ]
  },
  {
   "cell_type": "code",
   "execution_count": 32,
   "id": "06f6336b",
   "metadata": {},
   "outputs": [],
   "source": [
    "#AD.1__Zamień nagłówki kolumn na polskie odpowiedniki: ['TYTUŁ','ARTYSTA','ROK','MAX POZ']\n",
    "data[0].columns = ['POS', 'Tytuł','Artysta', 'Rok', 'MAX POZ']\n",
    "#data[0]"
   ]
  },
  {
   "cell_type": "code",
   "execution_count": 33,
   "id": "0f0c8f54",
   "metadata": {},
   "outputs": [],
   "source": [
    "#AD.2__Ilu pojedynczych artystów znajduje się na liście?\n",
    "# count occurrences a particular column\n",
    "occur = data[0].groupby(['Artysta']).size()\n",
    "#occur.columns = ['Artysta1','Ile'] \n",
    "#occur\n",
    "\n",
    "# display occurrences of a particular column\n",
    "#print(\"Na liście znajduje się: \"+str(len(occur)) + \" artystów\")\n",
    "#occur\n"
   ]
  },
  {
   "cell_type": "code",
   "execution_count": 34,
   "id": "076db37f",
   "metadata": {},
   "outputs": [],
   "source": [
    "#occur = data[0].groupby(['Artysta']).sum()\n",
    "occur = data[0].groupby(['Artysta']).count()\n",
    "#occur"
   ]
  },
  {
   "cell_type": "code",
   "execution_count": 53,
   "id": "166e11d0",
   "metadata": {},
   "outputs": [],
   "source": [
    "#AD.3__Które zespoły pojawiają się najczęściej na liście?"
   ]
  },
  {
   "cell_type": "code",
   "execution_count": 24,
   "id": "37e61046",
   "metadata": {},
   "outputs": [
    {
     "data": {
      "text/plain": [
       "3"
      ]
     },
     "execution_count": 24,
     "metadata": {},
     "output_type": "execute_result"
    }
   ],
   "source": [
    "max_occur = occur.max()\n",
    "max_occur\n",
    "\n",
    "#1) Znalezc te, ktore sie powtarzaja 3 razy a) Policzyc b) wyfiltrowac te wiersze\n",
    "#2) Wypisac je"
   ]
  },
  {
   "cell_type": "code",
   "execution_count": null,
   "id": "7f337926",
   "metadata": {},
   "outputs": [],
   "source": [
    "data[0]"
   ]
  },
  {
   "cell_type": "code",
   "execution_count": 27,
   "id": "d0fc8e78",
   "metadata": {},
   "outputs": [],
   "source": [
    "#AD.4__Zmień nagłówki kolumn, tak aby każdy z nich rozpoczynał się od wielkiej litery, a pozostałe były wprowadzone małymi literami."
   ]
  },
  {
   "cell_type": "code",
   "execution_count": 28,
   "id": "9dcbb969",
   "metadata": {},
   "outputs": [],
   "source": [
    "#AD.5_Wyrzuć z tabeli kolumnę ‘Max Poz’."
   ]
  },
  {
   "cell_type": "code",
   "execution_count": 29,
   "id": "087824bc",
   "metadata": {},
   "outputs": [],
   "source": [
    "#AD.6_W którym roku wyszło najwięcej albumów znajdujących się na liście?"
   ]
  },
  {
   "cell_type": "code",
   "execution_count": 30,
   "id": "c6b7f495",
   "metadata": {},
   "outputs": [],
   "source": [
    "#AD.7_Ile albumów wydanych między 1960 a 1990 rokiem włącznie znajduje się na liście?"
   ]
  },
  {
   "cell_type": "code",
   "execution_count": 31,
   "id": "08c86ca5",
   "metadata": {},
   "outputs": [],
   "source": [
    "#AD.8_W którym roku wydany został najmłodszy album na liście?"
   ]
  },
  {
   "cell_type": "code",
   "execution_count": null,
   "id": "25b88588",
   "metadata": {},
   "outputs": [],
   "source": [
    "#AD.9_Przygotuj listę najwcześniej wydanych albumów każdego artysty, który znalazł się na liście."
   ]
  }
 ],
 "metadata": {
  "kernelspec": {
   "display_name": "Python 3 (ipykernel)",
   "language": "python",
   "name": "python3"
  },
  "language_info": {
   "codemirror_mode": {
    "name": "ipython",
    "version": 3
   },
   "file_extension": ".py",
   "mimetype": "text/x-python",
   "name": "python",
   "nbconvert_exporter": "python",
   "pygments_lexer": "ipython3",
   "version": "3.9.5"
  }
 },
 "nbformat": 4,
 "nbformat_minor": 5
}
