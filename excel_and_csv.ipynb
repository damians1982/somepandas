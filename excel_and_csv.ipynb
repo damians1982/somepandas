{
 "cells": [
  {
   "cell_type": "code",
   "execution_count": 1,
   "id": "18585925",
   "metadata": {},
   "outputs": [],
   "source": [
    "import pandas as pd"
   ]
  },
  {
   "cell_type": "code",
   "execution_count": 2,
   "id": "2c1b51cd",
   "metadata": {},
   "outputs": [],
   "source": [
    "#df = pd.read_excel('myExcelFile.xlsx', sheet_name='my_data')\n",
    "writer = pd.ExcelWriter('pandas_simple.xlsx', engine='xlsxwriter')"
   ]
  },
  {
   "cell_type": "code",
   "execution_count": 3,
   "id": "2c4aaacd",
   "metadata": {},
   "outputs": [],
   "source": [
    "df1 = pd.DataFrame({'A': ['1', '2', '3', '4','3','2','7','8','9','10','11'],\n",
    "\n",
    "                    'B': ['1', '2', '3', '4','1','-2','5','6','9','10','11'],\n",
    "\n",
    "                    'C': ['C1', 'C2', 'C3', 'C4','C5','C6','C7','C8','C9','C10','C11'],\n",
    "\n",
    "                    'D': ['D1', 'D2', 'D3', 'D4','D5','D6','D7','D8','D9','D10','D11']},\n",
    "\n",
    "                    index=[0, 1, 2, 3,4,5,6,7,8,9,10])"
   ]
  },
  {
   "cell_type": "code",
   "execution_count": 4,
   "id": "15938753",
   "metadata": {},
   "outputs": [],
   "source": [
    "df2 = pd.DataFrame({'A': ['A4', 'A5', 'A6', 'A7'],\n",
    "\n",
    "                    'B': ['B4', 'B5', 'B6', 'B7'],\n",
    "\n",
    "                    'C': ['C4', 'C5', 'C6', 'C7'],\n",
    "\n",
    "                    'D': ['D4', 'D5', 'D6', 'D7']},\n",
    "\n",
    "                    index=[4, 5, 6, 7])"
   ]
  },
  {
   "cell_type": "code",
   "execution_count": 5,
   "id": "ed0c1d60",
   "metadata": {},
   "outputs": [],
   "source": [
    "df3 = pd.DataFrame({'A': ['A8', 'A9', 'A10', 'A11'],\n",
    "\n",
    "                    'B': ['B8', 'B9', 'B10', 'B11'],\n",
    "\n",
    "                    'C': ['C8', 'C9', 'C10', 'C11'],\n",
    "\n",
    "                    'D': ['D8', 'D9', 'D10', 'D11']},\n",
    "\n",
    "                    index=[8, 9, 10, 11])"
   ]
  },
  {
   "cell_type": "code",
   "execution_count": 6,
   "id": "4bb1fb07",
   "metadata": {},
   "outputs": [
    {
     "data": {
      "text/html": [
       "<div>\n",
       "<style scoped>\n",
       "    .dataframe tbody tr th:only-of-type {\n",
       "        vertical-align: middle;\n",
       "    }\n",
       "\n",
       "    .dataframe tbody tr th {\n",
       "        vertical-align: top;\n",
       "    }\n",
       "\n",
       "    .dataframe thead th {\n",
       "        text-align: right;\n",
       "    }\n",
       "</style>\n",
       "<table border=\"1\" class=\"dataframe\">\n",
       "  <thead>\n",
       "    <tr style=\"text-align: right;\">\n",
       "      <th></th>\n",
       "      <th>Kategorie Kosztów</th>\n",
       "    </tr>\n",
       "  </thead>\n",
       "  <tbody>\n",
       "    <tr>\n",
       "      <th>10</th>\n",
       "      <td>Jedzenie</td>\n",
       "    </tr>\n",
       "    <tr>\n",
       "      <th>12</th>\n",
       "      <td>Slodkie</td>\n",
       "    </tr>\n",
       "    <tr>\n",
       "      <th>14</th>\n",
       "      <td>Alkohol</td>\n",
       "    </tr>\n",
       "    <tr>\n",
       "      <th>16</th>\n",
       "      <td>Dom</td>\n",
       "    </tr>\n",
       "    <tr>\n",
       "      <th>18</th>\n",
       "      <td>Hobby</td>\n",
       "    </tr>\n",
       "    <tr>\n",
       "      <th>200</th>\n",
       "      <td>Randki</td>\n",
       "    </tr>\n",
       "  </tbody>\n",
       "</table>\n",
       "</div>"
      ],
      "text/plain": [
       "    Kategorie Kosztów\n",
       "10           Jedzenie\n",
       "12            Slodkie\n",
       "14            Alkohol\n",
       "16                Dom\n",
       "18              Hobby\n",
       "200            Randki"
      ]
     },
     "execution_count": 6,
     "metadata": {},
     "output_type": "execute_result"
    }
   ],
   "source": [
    "df4 = pd.DataFrame({'Kategorie Kosztów':['Jedzenie','Slodkie','Alkohol','Dom','Hobby','Randki']},index=[10,12,14,16,18,200])\n",
    "df4"
   ]
  },
  {
   "cell_type": "code",
   "execution_count": 172,
   "id": "9566e4ad",
   "metadata": {},
   "outputs": [],
   "source": [
    "df1.to_excel(writer, sheet_name='my_dfs')\n",
    "df2.to_excel(writer, sheet_name='my_dfs', startcol=1, startrow=30, index=False)\n",
    "df3.to_excel(writer, sheet_name='my_dfs', startcol=2, startrow=50, index=False)\n",
    "df4.to_excel(writer,sheet_name=\"koszty\")"
   ]
  },
  {
   "cell_type": "code",
   "execution_count": 173,
   "id": "f7f66c6d",
   "metadata": {},
   "outputs": [],
   "source": [
    "writer.save()"
   ]
  },
  {
   "cell_type": "code",
   "execution_count": 216,
   "id": "384717e8",
   "metadata": {},
   "outputs": [],
   "source": [
    "writer = pd.ExcelWriter('add_chart.xlsx', engine='xlsxwriter')\n",
    "df1.to_excel(writer, sheet_name='my_chart')"
   ]
  },
  {
   "cell_type": "code",
   "execution_count": 217,
   "id": "8e8fc480",
   "metadata": {},
   "outputs": [],
   "source": [
    "workbook = writer.book\n",
    "worksheet = writer.sheets['my_chart']\n",
    "chart = workbook.add_chart({'type':'line'})"
   ]
  },
  {
   "cell_type": "code",
   "execution_count": 218,
   "id": "70bd6685",
   "metadata": {},
   "outputs": [
    {
     "data": {
      "text/plain": [
       "11"
      ]
     },
     "execution_count": 218,
     "metadata": {},
     "output_type": "execute_result"
    }
   ],
   "source": [
    "len(df1)"
   ]
  },
  {
   "cell_type": "code",
   "execution_count": 219,
   "id": "c8b37ff6",
   "metadata": {},
   "outputs": [
    {
     "data": {
      "text/plain": [
       "\"='my_chart'!C2:C12\""
      ]
     },
     "execution_count": 219,
     "metadata": {},
     "output_type": "execute_result"
    }
   ],
   "source": [
    "def grab_series(df, sheet_name, colname, startcol=0, startrow=0):\n",
    "\n",
    "    col_index = df.columns.tolist().index(colname)\n",
    "    col_letter = chr(ord('@')+(col_index+2+startcol))\n",
    "    first_row = startrow + 2\n",
    "    last_row = startrow + 1 + len(df)\n",
    "    return f\"='{sheet_name}'!{col_letter}{first_row}:{col_letter}{last_row}\"\n",
    "grab_series(df1,'my_chart','B')"
   ]
  },
  {
   "cell_type": "code",
   "execution_count": 220,
   "id": "078c21de",
   "metadata": {},
   "outputs": [],
   "source": [
    "#pracujemy nad chartem\n",
    "chart.add_series({'values':grab_series(df1,'my_chart','B')})\n",
    "chart.set_x_axis({\n",
    "    'name': 'x^2',\n",
    "    'name_font': {'size': 14, 'bold': True},\n",
    "    'num_font':  {'italic': True },\n",
    "})\n",
    "chart.set_legend({'none': True})"
   ]
  },
  {
   "cell_type": "code",
   "execution_count": 221,
   "id": "3f41ccfa",
   "metadata": {},
   "outputs": [
    {
     "data": {
      "text/plain": [
       "0"
      ]
     },
     "execution_count": 221,
     "metadata": {},
     "output_type": "execute_result"
    }
   ],
   "source": [
    "#umieszczamy nasz chart w arkuszu\n",
    "worksheet.insert_chart('F2', chart)"
   ]
  },
  {
   "cell_type": "code",
   "execution_count": 222,
   "id": "3191537e",
   "metadata": {},
   "outputs": [],
   "source": [
    "writer.save()\n",
    "workbook.close()"
   ]
  },
  {
   "cell_type": "code",
   "execution_count": 223,
   "id": "e45eef55",
   "metadata": {},
   "outputs": [],
   "source": [
    "#Formotowanie warunkowe"
   ]
  },
  {
   "cell_type": "code",
   "execution_count": 190,
   "id": "4a437f20",
   "metadata": {},
   "outputs": [],
   "source": [
    "writer = pd.ExcelWriter('conditional_format.xlsx', engine='xlsxwriter')\n",
    "\n",
    "df1.to_excel(writer, sheet_name='my_conditional')\n",
    "\n",
    "workbook = writer.book\n",
    "worksheet = writer.sheets['my_conditional']"
   ]
  },
  {
   "cell_type": "code",
   "execution_count": 191,
   "id": "d2b12024",
   "metadata": {},
   "outputs": [],
   "source": [
    "format1 = workbook.add_format({'bg_color':   '#FFC7CE',\n",
    "                               'font_color': '#9C0006'})"
   ]
  },
  {
   "cell_type": "code",
   "execution_count": 192,
   "id": "c0c9d4b1",
   "metadata": {},
   "outputs": [
    {
     "data": {
      "text/plain": [
       "0"
      ]
     },
     "execution_count": 192,
     "metadata": {},
     "output_type": "execute_result"
    }
   ],
   "source": [
    "worksheet.conditional_format(\"D2:D12\",{'type': 'cell',\n",
    "                                      'criteria':'>=',\n",
    "                                      'value':300,\n",
    "                                      'format':format1})"
   ]
  },
  {
   "cell_type": "code",
   "execution_count": 193,
   "id": "838b8dd9",
   "metadata": {},
   "outputs": [
    {
     "data": {
      "text/plain": [
       "0"
      ]
     },
     "execution_count": 193,
     "metadata": {},
     "output_type": "execute_result"
    }
   ],
   "source": [
    "worksheet.data_validation('B16', {\n",
    "    'validate':'integer',\n",
    "    'criteria':'>',\n",
    "    'value':0\n",
    "})"
   ]
  },
  {
   "cell_type": "code",
   "execution_count": 224,
   "id": "4aa7e191",
   "metadata": {},
   "outputs": [
    {
     "data": {
      "text/plain": [
       "0"
      ]
     },
     "execution_count": 224,
     "metadata": {},
     "output_type": "execute_result"
    }
   ],
   "source": [
    "worksheet.set_column('A:A',35)"
   ]
  },
  {
   "cell_type": "code",
   "execution_count": 225,
   "id": "0b1fc4eb",
   "metadata": {},
   "outputs": [],
   "source": [
    "writer.save()\n",
    "workbook.close()"
   ]
  },
  {
   "cell_type": "code",
   "execution_count": null,
   "id": "5535adc7",
   "metadata": {},
   "outputs": [],
   "source": []
  }
 ],
 "metadata": {
  "kernelspec": {
   "display_name": "Python 3.9.5 64-bit",
   "language": "python",
   "name": "python3"
  },
  "language_info": {
   "codemirror_mode": {
    "name": "ipython",
    "version": 3
   },
   "file_extension": ".py",
   "mimetype": "text/x-python",
   "name": "python",
   "nbconvert_exporter": "python",
   "pygments_lexer": "ipython3",
   "version": "3.9.5"
  },
  "vscode": {
   "interpreter": {
    "hash": "4c9e3910ab538740ac3677afdba0c3aa10ba2c31dbb680f79d0021c81c6e0201"
   }
  }
 },
 "nbformat": 4,
 "nbformat_minor": 5
}
