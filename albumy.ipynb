{
 "cells": [
  {
   "cell_type": "code",
   "execution_count": 86,
   "id": "3bc150db",
   "metadata": {},
   "outputs": [],
   "source": [
    "import pandas as pd\n",
    "import ssl\n",
    "ssl._create_default_https_context = ssl._create_unverified_context"
   ]
  },
  {
   "cell_type": "code",
   "execution_count": 87,
   "id": "6b84c11b",
   "metadata": {},
   "outputs": [],
   "source": [
    "data = pd.read_html('https://www.officialcharts.com/chart-news/the-best-selling-albums-of-all-time-on-the-official-uk-chart__15551/', header=0)"
   ]
  },
  {
   "cell_type": "code",
   "execution_count": 88,
   "id": "469473bb",
   "metadata": {},
   "outputs": [
    {
     "data": {
      "text/plain": [
       "pandas.core.frame.DataFrame"
      ]
     },
     "execution_count": 88,
     "metadata": {},
     "output_type": "execute_result"
    }
   ],
   "source": [
    "#catch our data frame object\n",
    "type(data[0])\n",
    "#data[0]"
   ]
  },
  {
   "cell_type": "code",
   "execution_count": 89,
   "id": "06f6336b",
   "metadata": {},
   "outputs": [
    {
     "data": {
      "text/plain": [
       "Index(['POS', 'Tytuł', 'Artysta', 'Rok', 'MAX POZ'], dtype='object')"
      ]
     },
     "execution_count": 89,
     "metadata": {},
     "output_type": "execute_result"
    }
   ],
   "source": [
    "#AD.1__Zamień nagłówki kolumn na polskie odpowiedniki: ['TYTUŁ','ARTYSTA','ROK','MAX POZ']\n",
    "data[0].columns = ['POS', 'Tytuł','Artysta', 'Rok', 'MAX POZ']\n",
    "#data[0]      #odkomentować dla pokazania calej tabeli po modyfykacji\n",
    "data[0].columns   #Nazwy nowych kolumn po modyfikacji"
   ]
  },
  {
   "cell_type": "code",
   "execution_count": 90,
   "id": "0f0c8f54",
   "metadata": {},
   "outputs": [
    {
     "name": "stdout",
     "output_type": "stream",
     "text": [
      "Na liscie znajduje się 47 artystow\n"
     ]
    }
   ],
   "source": [
    "# TODO ....\n",
    "#AD.2__Ilu pojedynczych artystów znajduje się na liście?\n",
    "# count occurrences a particular column\n",
    "occur = data[0].groupby(['Artysta']).count() #grupujemy po kolumnie Artysta i zliczamy, liczba wierszy occur to ilosc artysow\n",
    "print(\"Na liscie znajduje się \"+str(len(occur))+\" artystow\")"
   ]
  },
  {
   "cell_type": "code",
   "execution_count": 91,
   "id": "d5ac65c1",
   "metadata": {},
   "outputs": [],
   "source": [
    "#AD.3__Które zespoły pojawiają się najczęściej na liście?\n",
    "occur = data[0].groupby(['Artysta']).count()\n",
    "#zliczamy ilosc wystapien kazdego albumu\n",
    "#occur    #zakomentowane aby ekranu nie zaśmiecać"
   ]
  },
  {
   "cell_type": "code",
   "execution_count": 92,
   "id": "110acade",
   "metadata": {},
   "outputs": [],
   "source": [
    "#Znajdujemy max liczbę wystąpień\n",
    "max_occur = occur['POS'].max()\n",
    "#max_occur   #odkomentować dla pokazania max liczby wystąpień"
   ]
  },
  {
   "cell_type": "code",
   "execution_count": 93,
   "id": "166e11d0",
   "metadata": {},
   "outputs": [
    {
     "data": {
      "text/html": [
       "<div>\n",
       "<style scoped>\n",
       "    .dataframe tbody tr th:only-of-type {\n",
       "        vertical-align: middle;\n",
       "    }\n",
       "\n",
       "    .dataframe tbody tr th {\n",
       "        vertical-align: top;\n",
       "    }\n",
       "\n",
       "    .dataframe thead th {\n",
       "        text-align: right;\n",
       "    }\n",
       "</style>\n",
       "<table border=\"1\" class=\"dataframe\">\n",
       "  <thead>\n",
       "    <tr style=\"text-align: right;\">\n",
       "      <th></th>\n",
       "      <th>POS</th>\n",
       "      <th>Tytuł</th>\n",
       "      <th>Rok</th>\n",
       "      <th>MAX POZ</th>\n",
       "    </tr>\n",
       "    <tr>\n",
       "      <th>Artysta</th>\n",
       "      <th></th>\n",
       "      <th></th>\n",
       "      <th></th>\n",
       "      <th></th>\n",
       "    </tr>\n",
       "  </thead>\n",
       "  <tbody>\n",
       "    <tr>\n",
       "      <th>COLDPLAY</th>\n",
       "      <td>3</td>\n",
       "      <td>3</td>\n",
       "      <td>3</td>\n",
       "      <td>3</td>\n",
       "    </tr>\n",
       "    <tr>\n",
       "      <th>TAKE THAT</th>\n",
       "      <td>3</td>\n",
       "      <td>3</td>\n",
       "      <td>3</td>\n",
       "      <td>3</td>\n",
       "    </tr>\n",
       "  </tbody>\n",
       "</table>\n",
       "</div>"
      ],
      "text/plain": [
       "           POS  Tytuł  Rok  MAX POZ\n",
       "Artysta                            \n",
       "COLDPLAY     3      3    3        3\n",
       "TAKE THAT    3      3    3        3"
      ]
     },
     "execution_count": 93,
     "metadata": {},
     "output_type": "execute_result"
    }
   ],
   "source": [
    "#Wypisujemy te, które występują maksymalną liczbę razy\n",
    "occur[occur['POS']==max_occur]"
   ]
  },
  {
   "cell_type": "code",
   "execution_count": 94,
   "id": "37e61046",
   "metadata": {},
   "outputs": [],
   "source": [
    "#AD.4__Zmień nagłówki kolumn, tak aby każdy z nich rozpoczynał się od wielkiej litery, \n",
    "#a pozostałe były wprowadzone małymi literami."
   ]
  },
  {
   "cell_type": "code",
   "execution_count": 95,
   "id": "7f337926",
   "metadata": {},
   "outputs": [
    {
     "data": {
      "text/plain": [
       "Index(['POS', 'Tytuł', 'Artysta', 'Rok', 'MAX POZ'], dtype='object')"
      ]
     },
     "execution_count": 95,
     "metadata": {},
     "output_type": "execute_result"
    }
   ],
   "source": [
    "#Kolumny przez zmianą\n",
    "data[0].columns   "
   ]
  },
  {
   "cell_type": "code",
   "execution_count": 96,
   "id": "d0fc8e78",
   "metadata": {},
   "outputs": [
    {
     "data": {
      "text/plain": [
       "['Pos', 'Tytuł', 'Artysta', 'Rok', 'Max poz']"
      ]
     },
     "execution_count": 96,
     "metadata": {},
     "output_type": "execute_result"
    }
   ],
   "source": [
    "new_columns = []\n",
    "for column in data[0].columns:\n",
    "    new_columns.append(column.capitalize())\n",
    "#Mamy nową listę z pożądanymi nazwami kolumn\n",
    "new_columns"
   ]
  },
  {
   "cell_type": "code",
   "execution_count": 97,
   "id": "f2e5f024",
   "metadata": {},
   "outputs": [
    {
     "data": {
      "text/plain": [
       "Index(['Pos', 'Tytuł', 'Artysta', 'Rok', 'Max poz'], dtype='object')"
      ]
     },
     "execution_count": 97,
     "metadata": {},
     "output_type": "execute_result"
    }
   ],
   "source": [
    "#zamieniamy na raz wszystkie kolumny\n",
    "data[0].columns = new_columns\n",
    "data[0].columns"
   ]
  },
  {
   "cell_type": "code",
   "execution_count": 98,
   "id": "9dcbb969",
   "metadata": {},
   "outputs": [],
   "source": [
    "#AD.5_Wyrzuć z tabeli kolumnę ‘Max Poz’."
   ]
  },
  {
   "cell_type": "code",
   "execution_count": 99,
   "id": "8fbe0dfc",
   "metadata": {},
   "outputs": [],
   "source": [
    "#Po prostu uzywamy funkcji drop\n",
    "data[0].drop('Max poz', inplace=True, axis=1)\n",
    "#data[0]   #zakomentowane aby nie zasmiecac"
   ]
  },
  {
   "cell_type": "code",
   "execution_count": 108,
   "id": "087824bc",
   "metadata": {},
   "outputs": [],
   "source": [
    "#AD.6_W którym roku wyszło najwięcej albumów znajdujących się na liście?\n",
    "#data[0]"
   ]
  },
  {
   "cell_type": "code",
   "execution_count": 119,
   "id": "215e0c4b",
   "metadata": {},
   "outputs": [
    {
     "data": {
      "text/html": [
       "<div>\n",
       "<style scoped>\n",
       "    .dataframe tbody tr th:only-of-type {\n",
       "        vertical-align: middle;\n",
       "    }\n",
       "\n",
       "    .dataframe tbody tr th {\n",
       "        vertical-align: top;\n",
       "    }\n",
       "\n",
       "    .dataframe thead th {\n",
       "        text-align: right;\n",
       "    }\n",
       "</style>\n",
       "<table border=\"1\" class=\"dataframe\">\n",
       "  <thead>\n",
       "    <tr style=\"text-align: right;\">\n",
       "      <th></th>\n",
       "      <th>Pos</th>\n",
       "      <th>Tytuł</th>\n",
       "      <th>Artysta</th>\n",
       "    </tr>\n",
       "    <tr>\n",
       "      <th>Rok</th>\n",
       "      <th></th>\n",
       "      <th></th>\n",
       "      <th></th>\n",
       "    </tr>\n",
       "  </thead>\n",
       "  <tbody>\n",
       "    <tr>\n",
       "      <th>1965</th>\n",
       "      <td>1</td>\n",
       "      <td>1</td>\n",
       "      <td>1</td>\n",
       "    </tr>\n",
       "    <tr>\n",
       "      <th>1967</th>\n",
       "      <td>1</td>\n",
       "      <td>1</td>\n",
       "      <td>1</td>\n",
       "    </tr>\n",
       "    <tr>\n",
       "      <th>1970</th>\n",
       "      <td>1</td>\n",
       "      <td>1</td>\n",
       "      <td>1</td>\n",
       "    </tr>\n",
       "    <tr>\n",
       "      <th>1973</th>\n",
       "      <td>2</td>\n",
       "      <td>2</td>\n",
       "      <td>2</td>\n",
       "    </tr>\n",
       "    <tr>\n",
       "      <th>1975</th>\n",
       "      <td>1</td>\n",
       "      <td>1</td>\n",
       "      <td>1</td>\n",
       "    </tr>\n",
       "    <tr>\n",
       "      <th>1977</th>\n",
       "      <td>3</td>\n",
       "      <td>3</td>\n",
       "      <td>3</td>\n",
       "    </tr>\n",
       "    <tr>\n",
       "      <th>1978</th>\n",
       "      <td>1</td>\n",
       "      <td>1</td>\n",
       "      <td>1</td>\n",
       "    </tr>\n",
       "    <tr>\n",
       "      <th>1981</th>\n",
       "      <td>1</td>\n",
       "      <td>1</td>\n",
       "      <td>1</td>\n",
       "    </tr>\n",
       "    <tr>\n",
       "      <th>1982</th>\n",
       "      <td>1</td>\n",
       "      <td>1</td>\n",
       "      <td>1</td>\n",
       "    </tr>\n",
       "    <tr>\n",
       "      <th>1984</th>\n",
       "      <td>1</td>\n",
       "      <td>1</td>\n",
       "      <td>1</td>\n",
       "    </tr>\n",
       "    <tr>\n",
       "      <th>1985</th>\n",
       "      <td>1</td>\n",
       "      <td>1</td>\n",
       "      <td>1</td>\n",
       "    </tr>\n",
       "    <tr>\n",
       "      <th>1986</th>\n",
       "      <td>1</td>\n",
       "      <td>1</td>\n",
       "      <td>1</td>\n",
       "    </tr>\n",
       "    <tr>\n",
       "      <th>1987</th>\n",
       "      <td>4</td>\n",
       "      <td>4</td>\n",
       "      <td>4</td>\n",
       "    </tr>\n",
       "    <tr>\n",
       "      <th>1988</th>\n",
       "      <td>1</td>\n",
       "      <td>1</td>\n",
       "      <td>1</td>\n",
       "    </tr>\n",
       "    <tr>\n",
       "      <th>1989</th>\n",
       "      <td>1</td>\n",
       "      <td>1</td>\n",
       "      <td>1</td>\n",
       "    </tr>\n",
       "    <tr>\n",
       "      <th>1990</th>\n",
       "      <td>1</td>\n",
       "      <td>1</td>\n",
       "      <td>1</td>\n",
       "    </tr>\n",
       "    <tr>\n",
       "      <th>1991</th>\n",
       "      <td>2</td>\n",
       "      <td>2</td>\n",
       "      <td>2</td>\n",
       "    </tr>\n",
       "    <tr>\n",
       "      <th>1992</th>\n",
       "      <td>2</td>\n",
       "      <td>2</td>\n",
       "      <td>2</td>\n",
       "    </tr>\n",
       "    <tr>\n",
       "      <th>1995</th>\n",
       "      <td>2</td>\n",
       "      <td>2</td>\n",
       "      <td>2</td>\n",
       "    </tr>\n",
       "    <tr>\n",
       "      <th>1996</th>\n",
       "      <td>1</td>\n",
       "      <td>1</td>\n",
       "      <td>1</td>\n",
       "    </tr>\n",
       "    <tr>\n",
       "      <th>1997</th>\n",
       "      <td>3</td>\n",
       "      <td>3</td>\n",
       "      <td>3</td>\n",
       "    </tr>\n",
       "    <tr>\n",
       "      <th>1998</th>\n",
       "      <td>3</td>\n",
       "      <td>3</td>\n",
       "      <td>3</td>\n",
       "    </tr>\n",
       "    <tr>\n",
       "      <th>1999</th>\n",
       "      <td>1</td>\n",
       "      <td>1</td>\n",
       "      <td>1</td>\n",
       "    </tr>\n",
       "    <tr>\n",
       "      <th>2000</th>\n",
       "      <td>4</td>\n",
       "      <td>4</td>\n",
       "      <td>4</td>\n",
       "    </tr>\n",
       "    <tr>\n",
       "      <th>2001</th>\n",
       "      <td>1</td>\n",
       "      <td>1</td>\n",
       "      <td>1</td>\n",
       "    </tr>\n",
       "    <tr>\n",
       "      <th>2002</th>\n",
       "      <td>2</td>\n",
       "      <td>2</td>\n",
       "      <td>2</td>\n",
       "    </tr>\n",
       "    <tr>\n",
       "      <th>2003</th>\n",
       "      <td>1</td>\n",
       "      <td>1</td>\n",
       "      <td>1</td>\n",
       "    </tr>\n",
       "    <tr>\n",
       "      <th>2004</th>\n",
       "      <td>3</td>\n",
       "      <td>3</td>\n",
       "      <td>3</td>\n",
       "    </tr>\n",
       "    <tr>\n",
       "      <th>2005</th>\n",
       "      <td>2</td>\n",
       "      <td>2</td>\n",
       "      <td>2</td>\n",
       "    </tr>\n",
       "    <tr>\n",
       "      <th>2006</th>\n",
       "      <td>3</td>\n",
       "      <td>3</td>\n",
       "      <td>3</td>\n",
       "    </tr>\n",
       "    <tr>\n",
       "      <th>2007</th>\n",
       "      <td>1</td>\n",
       "      <td>1</td>\n",
       "      <td>1</td>\n",
       "    </tr>\n",
       "    <tr>\n",
       "      <th>2008</th>\n",
       "      <td>2</td>\n",
       "      <td>2</td>\n",
       "      <td>2</td>\n",
       "    </tr>\n",
       "    <tr>\n",
       "      <th>2009</th>\n",
       "      <td>1</td>\n",
       "      <td>1</td>\n",
       "      <td>1</td>\n",
       "    </tr>\n",
       "    <tr>\n",
       "      <th>2010</th>\n",
       "      <td>1</td>\n",
       "      <td>1</td>\n",
       "      <td>1</td>\n",
       "    </tr>\n",
       "    <tr>\n",
       "      <th>2011</th>\n",
       "      <td>1</td>\n",
       "      <td>1</td>\n",
       "      <td>1</td>\n",
       "    </tr>\n",
       "    <tr>\n",
       "      <th>2014</th>\n",
       "      <td>1</td>\n",
       "      <td>1</td>\n",
       "      <td>1</td>\n",
       "    </tr>\n",
       "    <tr>\n",
       "      <th>2015</th>\n",
       "      <td>1</td>\n",
       "      <td>1</td>\n",
       "      <td>1</td>\n",
       "    </tr>\n",
       "  </tbody>\n",
       "</table>\n",
       "</div>"
      ],
      "text/plain": [
       "      Pos  Tytuł  Artysta\n",
       "Rok                      \n",
       "1965    1      1        1\n",
       "1967    1      1        1\n",
       "1970    1      1        1\n",
       "1973    2      2        2\n",
       "1975    1      1        1\n",
       "1977    3      3        3\n",
       "1978    1      1        1\n",
       "1981    1      1        1\n",
       "1982    1      1        1\n",
       "1984    1      1        1\n",
       "1985    1      1        1\n",
       "1986    1      1        1\n",
       "1987    4      4        4\n",
       "1988    1      1        1\n",
       "1989    1      1        1\n",
       "1990    1      1        1\n",
       "1991    2      2        2\n",
       "1992    2      2        2\n",
       "1995    2      2        2\n",
       "1996    1      1        1\n",
       "1997    3      3        3\n",
       "1998    3      3        3\n",
       "1999    1      1        1\n",
       "2000    4      4        4\n",
       "2001    1      1        1\n",
       "2002    2      2        2\n",
       "2003    1      1        1\n",
       "2004    3      3        3\n",
       "2005    2      2        2\n",
       "2006    3      3        3\n",
       "2007    1      1        1\n",
       "2008    2      2        2\n",
       "2009    1      1        1\n",
       "2010    1      1        1\n",
       "2011    1      1        1\n",
       "2014    1      1        1\n",
       "2015    1      1        1"
      ]
     },
     "execution_count": 119,
     "metadata": {},
     "output_type": "execute_result"
    }
   ],
   "source": [
    "a = data[0].groupby(['Rok']).count()\n",
    "max_albums = a[a[]]\n",
    "#max_albums = a['Artysta'].values.max()\n",
    "#max_year = a['Pos'].max()\n",
    "a\n",
    "#max_albums"
   ]
  },
  {
   "cell_type": "code",
   "execution_count": 30,
   "id": "c6b7f495",
   "metadata": {},
   "outputs": [],
   "source": [
    "#AD.7_Ile albumów wydanych między 1960 a 1990 rokiem włącznie znajduje się na liście?"
   ]
  },
  {
   "cell_type": "code",
   "execution_count": 31,
   "id": "08c86ca5",
   "metadata": {},
   "outputs": [],
   "source": [
    "#AD.8_W którym roku wydany został najmłodszy album na liście?"
   ]
  },
  {
   "cell_type": "code",
   "execution_count": null,
   "id": "25b88588",
   "metadata": {},
   "outputs": [],
   "source": [
    "#AD.9_Przygotuj listę najwcześniej wydanych albumów każdego artysty, który znalazł się na liście."
   ]
  }
 ],
 "metadata": {
  "kernelspec": {
   "display_name": "Python 3 (ipykernel)",
   "language": "python",
   "name": "python3"
  },
  "language_info": {
   "codemirror_mode": {
    "name": "ipython",
    "version": 3
   },
   "file_extension": ".py",
   "mimetype": "text/x-python",
   "name": "python",
   "nbconvert_exporter": "python",
   "pygments_lexer": "ipython3",
   "version": "3.9.5"
  }
 },
 "nbformat": 4,
 "nbformat_minor": 5
}
